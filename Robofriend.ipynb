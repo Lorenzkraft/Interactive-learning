{
 "cells": [
  {
   "cell_type": "markdown",
   "metadata": {},
   "source": [
    "# How to use the Chatbot\n",
    "\n",
    "If you want to chat with the Chatbot, \n",
    "- just run the next cell!  \n",
    "- Now type in your message in the box in top middle and press enter when you are done.  \n",
    "The messages will be displayed underneath.  \n",
    "- If you want to leave the Chatbot type in  `exit`.\n",
    "\n",
    "Old messages will be displayed, but the Chatbot knows nothing about them.\n",
    "\n",
    "# Comment utiliser le Chatbot\n",
    "\n",
    "Si vous voulez discuter avec le Chatbot,\n",
    "- il suffit d'exécuter la cellule suivante !  \n",
    "- Tapez votre message dans la case en haut au milieu et appuyez sur Entrée lorsque vous avez terminé.  \n",
    "Les messages seront affichés en dessous.  \n",
    "- Si vous voulez quitter le Chatbot, tapez `exit`.\n",
    "\n",
    "Les anciens messages seront affichés, mais le Chatbot n'en saura rien.\n",
    "\n"
   ]
  },
  {
   "cell_type": "code",
   "execution_count": null,
   "metadata": {},
   "outputs": [],
   "source": [
    "run Chatbot.py"
   ]
  },
  {
   "cell_type": "code",
   "execution_count": null,
   "metadata": {},
   "outputs": [],
   "source": []
  }
 ],
 "metadata": {
  "kernelspec": {
   "display_name": "Python 3",
   "language": "python",
   "name": "python3"
  },
  "language_info": {
   "codemirror_mode": {
    "name": "ipython",
    "version": 3
   },
   "file_extension": ".py",
   "mimetype": "text/x-python",
   "name": "python",
   "nbconvert_exporter": "python",
   "pygments_lexer": "ipython3",
   "version": "3.10.6"
  }
 },
 "nbformat": 4,
 "nbformat_minor": 2
}
